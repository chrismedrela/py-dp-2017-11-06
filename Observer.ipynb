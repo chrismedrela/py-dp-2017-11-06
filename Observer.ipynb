{
 "cells": [
  {
   "cell_type": "markdown",
   "metadata": {},
   "source": [
    "# Observer (obserwator)"
   ]
  },
  {
   "cell_type": "markdown",
   "metadata": {},
   "source": [
    "# Przykład: logowanie"
   ]
  },
  {
   "cell_type": "code",
   "execution_count": 2,
   "metadata": {
    "collapsed": true
   },
   "outputs": [],
   "source": [
    "class Logger(object):\n",
    "    def __init__(self):\n",
    "        self._handlers = []\n",
    "        self.logs = []\n",
    "        \n",
    "    def register_handler(self, handler):\n",
    "        self._handlers.append(handler)\n",
    "        \n",
    "    def log(self, msg):\n",
    "        self.logs.append(msg)\n",
    "        for handler in self._handlers:\n",
    "            handler(msg) "
   ]
  },
  {
   "cell_type": "code",
   "execution_count": 3,
   "metadata": {
    "collapsed": true
   },
   "outputs": [],
   "source": [
    "logger = Logger()\n",
    "logger.log('asdf')"
   ]
  },
  {
   "cell_type": "code",
   "execution_count": 4,
   "metadata": {},
   "outputs": [],
   "source": [
    "def log_print(msg):\n",
    "    print(msg)\n",
    "    \n",
    "logger.register_handler(log_print)"
   ]
  },
  {
   "cell_type": "code",
   "execution_count": 5,
   "metadata": {
    "collapsed": true
   },
   "outputs": [],
   "source": [
    "from io import StringIO\n",
    "stream = StringIO()\n",
    "logger.register_handler(lambda line: stream.write(line + '\\n'))"
   ]
  },
  {
   "cell_type": "code",
   "execution_count": 6,
   "metadata": {},
   "outputs": [
    {
     "name": "stdout",
     "output_type": "stream",
     "text": [
      "qwer\n"
     ]
    }
   ],
   "source": [
    "logger.log('qwer')"
   ]
  },
  {
   "cell_type": "code",
   "execution_count": 7,
   "metadata": {},
   "outputs": [
    {
     "data": {
      "text/plain": [
       "['asdf', 'qwer']"
      ]
     },
     "execution_count": 7,
     "metadata": {},
     "output_type": "execute_result"
    }
   ],
   "source": [
    "logger.logs"
   ]
  },
  {
   "cell_type": "code",
   "execution_count": 8,
   "metadata": {},
   "outputs": [
    {
     "data": {
      "text/plain": [
       "'qwer\\n'"
      ]
     },
     "execution_count": 8,
     "metadata": {},
     "output_type": "execute_result"
    }
   ],
   "source": [
    "stream.seek(0)\n",
    "stream.read()"
   ]
  },
  {
   "cell_type": "markdown",
   "metadata": {},
   "source": [
    "# Ćwiczenie: Obserwowanie katalogu\n",
    "\n",
    "Należy zaimplementować obserwowanie wybranego katalogu i wyświetlenie nazwy pliku w momencie gdy zostanie utworzony nowy plik w tym katalogu.\n",
    "\n",
    "Installation: `pip install watchdog`.\n",
    "\n",
    "[Dokumentacja](http://pythonhosted.org/watchdog/)"
   ]
  },
  {
   "cell_type": "markdown",
   "metadata": {},
   "source": [
    "### Rozwiązanie"
   ]
  },
  {
   "cell_type": "code",
   "execution_count": 9,
   "metadata": {
    "collapsed": true
   },
   "outputs": [],
   "source": [
    "import sys\n",
    "import time\n",
    "import logging\n",
    "from watchdog.observers import Observer\n",
    "from watchdog.events import FileSystemEventHandler"
   ]
  },
  {
   "cell_type": "code",
   "execution_count": 10,
   "metadata": {
    "collapsed": true
   },
   "outputs": [],
   "source": [
    "class MyEventHandler(FileSystemEventHandler):\n",
    "    def on_created(self, event):\n",
    "        print(event.src_path)"
   ]
  },
  {
   "cell_type": "code",
   "execution_count": 11,
   "metadata": {},
   "outputs": [
    {
     "name": "stdout",
     "output_type": "stream",
     "text": [
      "./.~Observer.ipynb\n"
     ]
    }
   ],
   "source": [
    "event_handler = MyEventHandler()\n",
    "observer = Observer()\n",
    "observer.schedule(event_handler, '.', recursive=True)\n",
    "observer.start()\n",
    "time.sleep(5)\n",
    "observer.stop()\n",
    "observer.join()"
   ]
  }
 ],
 "metadata": {
  "kernelspec": {
   "display_name": "Python 3",
   "language": "python",
   "name": "python3"
  },
  "language_info": {
   "codemirror_mode": {
    "name": "ipython",
    "version": 3
   },
   "file_extension": ".py",
   "mimetype": "text/x-python",
   "name": "python",
   "nbconvert_exporter": "python",
   "pygments_lexer": "ipython3",
   "version": "3.5.3"
  },
  "toc": {
   "nav_menu": {},
   "number_sections": true,
   "sideBar": true,
   "skip_h1_title": false,
   "toc_cell": false,
   "toc_position": {},
   "toc_section_display": "block",
   "toc_window_display": false
  }
 },
 "nbformat": 4,
 "nbformat_minor": 2
}
