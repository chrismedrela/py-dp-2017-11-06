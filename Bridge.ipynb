{
 "cells": [
  {
   "cell_type": "markdown",
   "metadata": {},
   "source": [
    "# Bridge (most)"
   ]
  },
  {
   "cell_type": "code",
   "execution_count": 1,
   "metadata": {
    "collapsed": true
   },
   "outputs": [],
   "source": [
    "from io import StringIO"
   ]
  },
  {
   "cell_type": "code",
   "execution_count": 2,
   "metadata": {
    "collapsed": true
   },
   "outputs": [],
   "source": [
    "class Shape(object):\n",
    "    def __init__(self, x, y):\n",
    "        self.x = x\n",
    "        self.y = y\n",
    "        \n",
    "    @classmethod\n",
    "    def create_factory(cls):\n",
    "        shape_factory = {}\n",
    "        for subclass in cls.__subclasses__():\n",
    "            shape_factory[subclass.__name__] = subclass\n",
    "            # recurse if you want to include subsubclasses and so on\n",
    "            # shape_factory.update(subclass.create_factory())\n",
    "        return shape_factory\n",
    "        \n",
    "class Circle(Shape):\n",
    "    def __init__(self, x, y, r):\n",
    "        # super(Circle, self).__init__(x, y)  # Python 2\n",
    "        super().__init__(x, y)  # Python 3\n",
    "        self.r = r\n",
    "        \n",
    "    def __repr__(self):\n",
    "        return 'Circle x={} y={} r={}'.format(self.x, self.y, self.r)\n",
    "    \n",
    "    def draw(self, drawing):\n",
    "        drawing.draw_circle(self.x, self.y, self.r)\n",
    "        \n",
    "class Rectangle(Shape):\n",
    "    def __init__(self, x, y, w, h):\n",
    "        # super(Rectangle, self).__init__(x, y)  # Python 2\n",
    "        super().__init__(x, y)  # Python 3\n",
    "        self.w = w\n",
    "        self.h = h\n",
    "        \n",
    "    def __repr__(self):\n",
    "        return 'Rectangle x={} y={} w={} h={}'.format(self.x, self.y, self.w, self.h)\n",
    "    \n",
    "    def draw(self, drawing):\n",
    "        x, y, w, h = self.x, self.y, self.w, self.h\n",
    "        drawing.draw_line(x  , y  , x+w, y  )\n",
    "        drawing.draw_line(x  , y  , x  , y+h)\n",
    "        drawing.draw_line(x+w, y  , x+w, y+h)\n",
    "        drawing.draw_line(x  , y+h, x+w, y+h)\n",
    "    \n",
    "class Square(Shape):\n",
    "    def __new__(cls, x, y, a):\n",
    "        return Rectangle(x, y, a, a)"
   ]
  },
  {
   "cell_type": "code",
   "execution_count": 3,
   "metadata": {
    "collapsed": true
   },
   "outputs": [],
   "source": [
    "raw_shapes = '''\n",
    "Circle 15 10 14\n",
    "Rectangle 30 30 100 150\n",
    "Circle 40 20 5\n",
    "Square 30 100 20\n",
    "'''"
   ]
  },
  {
   "cell_type": "code",
   "execution_count": 4,
   "metadata": {
    "collapsed": true
   },
   "outputs": [],
   "source": [
    "class Drawing(object):\n",
    "    def __init__(self, shapes):\n",
    "        self._shapes = shapes\n",
    "        \n",
    "    def __repr__(self):\n",
    "        return '<Drawing {}>'.format(str(self._shapes))\n",
    "        \n",
    "    @classmethod\n",
    "    def from_stream(cls, stream):\n",
    "        shape_factory = Shape.create_factory()\n",
    "        shapes = []\n",
    "        for line in stream:\n",
    "            line = line.strip()\n",
    "            if not line:\n",
    "                continue\n",
    "            # splited = line.split()  # Python 2\n",
    "            # shape_name = splited[0]  # Python 2\n",
    "            # parameters = splited[1:]  # Python 2\n",
    "            shape_name, *parameters = line.split()  # Python 3\n",
    "            parameters = map(int, parameters)\n",
    "            try:\n",
    "                shape_creator = shape_factory[shape_name]\n",
    "            except KeyError:\n",
    "                raise TypeError\n",
    "            else:\n",
    "                shape = shape_creator(*parameters)\n",
    "            shapes.append(shape)\n",
    "        return cls(shapes)\n",
    "    \n",
    "    def draw(self):\n",
    "        for shape in self._shapes:\n",
    "            shape.draw(self)\n",
    "            \n",
    "    def draw_line(self, x1, y1, x2, y2):\n",
    "        raise NotImplemented\n",
    "        \n",
    "    def draw_circle(self, x, y, r):\n",
    "        raise NotImplemented"
   ]
  },
  {
   "cell_type": "code",
   "execution_count": 5,
   "metadata": {
    "collapsed": true
   },
   "outputs": [],
   "source": [
    "try:\n",
    "    import tkinter  # Python 3\n",
    "except ImportError:\n",
    "    import Tkinter as tkinter  # Python 2\n",
    "\n",
    "class TKinterDrawing(Drawing):\n",
    "    def __init__(self, *args, **kwargs):\n",
    "        super().__init__(*args, **kwargs)\n",
    "        self._window = tkinter.Tk()\n",
    "        \n",
    "    def draw_line(self, x1, y1, x2, y2):\n",
    "        self._canvas.create_line(x1, 200-y1, x2, 200-y2)\n",
    "    \n",
    "    def draw_circle(self, x, y, r):\n",
    "        self._canvas.create_oval((x-r, 200-(y-r), x+r, 200-(y+r)))\n",
    "    \n",
    "    def draw(self):\n",
    "        root = tkinter.Tk()\n",
    "        frame = tkinter.Frame(master=root)\n",
    "        self._canvas = tkinter.Canvas(frame)\n",
    "        self._canvas.pack()\n",
    "        frame.pack()\n",
    "        root.geometry('400x400')\n",
    "        super().draw()\n",
    "        root.mainloop()\n",
    "\n",
    "drawing = TKinterDrawing.from_stream(StringIO(raw_shapes))\n",
    "\n",
    "drawing.draw()"
   ]
  },
  {
   "cell_type": "markdown",
   "metadata": {},
   "source": [
    "### Rozwiązanie"
   ]
  },
  {
   "cell_type": "code",
   "execution_count": 6,
   "metadata": {},
   "outputs": [],
   "source": [
    "import turtle\n",
    "\n",
    "class TurtleDrawing(Drawing):\n",
    "    def __init__(self, *args, **kwargs):\n",
    "        super().__init__(*args, **kwargs)\n",
    "        turtle.resetscreen()\n",
    "        turtle.penup()\n",
    "        \n",
    "    def draw_line(self, x1, y1, x2, y2):\n",
    "        turtle.goto(x1, y1)\n",
    "        turtle.pendown()\n",
    "        turtle.goto(x2, y2)\n",
    "        turtle.penup()\n",
    "    \n",
    "    def draw_circle(self, x, y, r):\n",
    "        turtle.goto(x, y-r)\n",
    "        turtle.pendown()\n",
    "        turtle.circle(r)\n",
    "        turtle.penup()\n",
    "\n",
    "drawing = TurtleDrawing.from_stream(StringIO(raw_shapes))\n",
    "\n",
    "drawing.draw()"
   ]
  }
 ],
 "metadata": {
  "kernelspec": {
   "display_name": "Python 3",
   "language": "python",
   "name": "python3"
  },
  "language_info": {
   "codemirror_mode": {
    "name": "ipython",
    "version": 3
   },
   "file_extension": ".py",
   "mimetype": "text/x-python",
   "name": "python",
   "nbconvert_exporter": "python",
   "pygments_lexer": "ipython3",
   "version": "3.5.3"
  },
  "toc": {
   "nav_menu": {},
   "number_sections": true,
   "sideBar": true,
   "skip_h1_title": false,
   "toc_cell": false,
   "toc_position": {},
   "toc_section_display": "block",
   "toc_window_display": false
  }
 },
 "nbformat": 4,
 "nbformat_minor": 2
}
