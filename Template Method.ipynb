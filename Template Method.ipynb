{
 "cells": [
  {
   "cell_type": "markdown",
   "metadata": {},
   "source": [
    "# Template Method (metoda szablonowa)"
   ]
  },
  {
   "cell_type": "markdown",
   "metadata": {},
   "source": [
    "# Przykład: REPL"
   ]
  },
  {
   "cell_type": "code",
   "execution_count": 119,
   "metadata": {
    "collapsed": true
   },
   "outputs": [],
   "source": [
    "class Stop(Exception):\n",
    "    pass\n",
    "\n",
    "class REPL(object):\n",
    "    def run(self):\n",
    "        try:\n",
    "            while True:\n",
    "                expr = self.read()\n",
    "                result = self.eval(expr)\n",
    "                self.print(result)\n",
    "        except Stop:\n",
    "            pass\n",
    "        \n",
    "    def read(self):\n",
    "        raise NotImplemented\n",
    "        \n",
    "    def eval(self, expr):\n",
    "        raise NotImplemented\n",
    "        \n",
    "    def print(self, result):\n",
    "        raise NotImplemented"
   ]
  },
  {
   "cell_type": "code",
   "execution_count": 120,
   "metadata": {
    "collapsed": true
   },
   "outputs": [],
   "source": [
    "class CLI_REPL(REPL):\n",
    "    def read(self):\n",
    "        return input('>>> ')\n",
    "    \n",
    "    def eval(self, expr):\n",
    "        if expr.lower().strip() == 'exit':\n",
    "            raise Stop\n",
    "        return eval(expr)\n",
    "    \n",
    "    def print(self, result):\n",
    "        print(result)"
   ]
  },
  {
   "cell_type": "code",
   "execution_count": 121,
   "metadata": {},
   "outputs": [
    {
     "name": "stdout",
     "output_type": "stream",
     "text": [
      ">>> 2+2\n",
      "4\n",
      ">>> exit\n"
     ]
    }
   ],
   "source": [
    "CLI_REPL().run()"
   ]
  },
  {
   "cell_type": "markdown",
   "metadata": {},
   "source": [
    "# Ćwiczenie: CLI do turtle"
   ]
  },
  {
   "cell_type": "code",
   "execution_count": 93,
   "metadata": {
    "scrolled": true
   },
   "outputs": [
    {
     "name": "stdout",
     "output_type": "stream",
     "text": [
      "Welcome to the turtle shell.   Type help or ? to list commands.\n",
      "\n",
      "(turtle) forward 50\n",
      "(turtle) bye\n",
      "Thank you for using Turtle\n"
     ]
    }
   ],
   "source": [
    "import cmd, sys\n",
    "import turtle\n",
    "\n",
    "class TurtleShell(cmd.Cmd):\n",
    "    intro = 'Welcome to the turtle shell.   Type help or ? to list commands.\\n'\n",
    "    prompt = '(turtle) '\n",
    "\n",
    "    # ----- basic turtle commands -----\n",
    "    def do_forward(self, arg):\n",
    "        'Move the turtle forward by the specified distance:  FORWARD 10'\n",
    "        turtle.forward(int(arg))\n",
    "    def do_right(self, arg):\n",
    "        'Turn turtle right by given number of degrees:  RIGHT 20'\n",
    "        turtle.right(int(arg))\n",
    "    def do_left(self, arg):\n",
    "        'Turn turtle left by given number of degrees:  LEFT 90'\n",
    "        turtle.left(int(arg))\n",
    "    def do_home(self, arg):\n",
    "        'Return turtle to the home position:  HOME'\n",
    "        turtle.home()\n",
    "    def do_circle(self, arg):\n",
    "        'Draw circle with given radius an options extent and steps:  CIRCLE 50'\n",
    "        turtle.circle(int(arg))\n",
    "    def do_position(self, arg):\n",
    "        'Print the current turtle position:  POSITION'\n",
    "        print('Current position is %d %d\\n' % turtle.position())\n",
    "    def do_heading(self, arg):\n",
    "        'Print the current turtle heading in degrees:  HEADING'\n",
    "        print('Current heading is %d\\n' % (turtle.heading(),))\n",
    "    def do_reset(self, arg):\n",
    "        'Clear the screen and return turtle to center:  RESET'\n",
    "        turtle.reset()\n",
    "    def do_bye(self, arg):\n",
    "        'Close the turtle window, and exit:  BYE'\n",
    "        print('Thank you for using Turtle')\n",
    "        turtle.bye()\n",
    "        return True\n",
    "\n",
    "def parse(arg):\n",
    "    'Convert a series of zero or more numbers to an argument tuple'\n",
    "    return tuple(map(int, arg.split()))\n",
    "\n",
    "if __name__ == '__main__':\n",
    "    TurtleShell().cmdloop()    "
   ]
  }
 ],
 "metadata": {
  "kernelspec": {
   "display_name": "Python 3",
   "language": "python",
   "name": "python3"
  },
  "language_info": {
   "codemirror_mode": {
    "name": "ipython",
    "version": 3
   },
   "file_extension": ".py",
   "mimetype": "text/x-python",
   "name": "python",
   "nbconvert_exporter": "python",
   "pygments_lexer": "ipython3",
   "version": "3.5.3"
  },
  "toc": {
   "nav_menu": {},
   "number_sections": true,
   "sideBar": true,
   "skip_h1_title": false,
   "toc_cell": false,
   "toc_position": {},
   "toc_section_display": "block",
   "toc_window_display": false
  }
 },
 "nbformat": 4,
 "nbformat_minor": 2
}
