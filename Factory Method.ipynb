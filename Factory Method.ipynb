{
 "cells": [
  {
   "cell_type": "markdown",
   "metadata": {
    "heading_collapsed": true
   },
   "source": [
    "# Factory Method (metoda wytwórcza)"
   ]
  },
  {
   "cell_type": "markdown",
   "metadata": {
    "hidden": true
   },
   "source": [
    "# Ćwiczenie: Shapes"
   ]
  },
  {
   "cell_type": "markdown",
   "metadata": {
    "hidden": true
   },
   "source": [
    "### Kod początkowy"
   ]
  },
  {
   "cell_type": "code",
   "execution_count": 65,
   "metadata": {
    "collapsed": true,
    "hidden": true
   },
   "outputs": [],
   "source": [
    "class Shape(object):\n",
    "    def __init__(self, x, y):\n",
    "        self.x = x\n",
    "        self.y = y\n",
    "        \n",
    "class Circle(Shape):\n",
    "    def __init__(self, x, y, r):\n",
    "        # super(Circle, self).__init__(x, y)  # Python 2\n",
    "        super().__init__(x, y)  # Python 3\n",
    "        self.r = r\n",
    "        \n",
    "    def __repr__(self):\n",
    "        return 'Circle x={} y={} r={}'.format(self.x, self.y, self.r)\n",
    "        \n",
    "class Rectangle(Shape):\n",
    "    def __init__(self, x, y, w, h):\n",
    "        # super(Rectangle, self).__init__(x, y)  # Python 2\n",
    "        super().__init__(x, y)  # Python 3\n",
    "        self.w = w\n",
    "        self.h = h\n",
    "        \n",
    "    def __repr__(self):\n",
    "        return 'Rectangle x={} y={} w={} h={}'.format(self.x, self.y, self.w, self.h)"
   ]
  },
  {
   "cell_type": "code",
   "execution_count": 66,
   "metadata": {
    "collapsed": true,
    "hidden": true
   },
   "outputs": [],
   "source": [
    "class Drawing(object):\n",
    "    def __init__(self, shapes):\n",
    "        self._shapes = shapes\n",
    "        \n",
    "    def __repr__(self):\n",
    "        return '<Drawing {}>'.format(str(self._shapes))\n",
    "        \n",
    "    @classmethod\n",
    "    def from_string(cls, string):\n",
    "        shapes = []\n",
    "        for line in string.split('\\n'):\n",
    "            line = line.strip()\n",
    "            if not line:\n",
    "                continue\n",
    "            ...\n",
    "            shapes.append(...)\n",
    "        return cls(shapes)"
   ]
  },
  {
   "cell_type": "code",
   "execution_count": 67,
   "metadata": {
    "collapsed": true,
    "hidden": true
   },
   "outputs": [],
   "source": [
    "raw_shapes = '''\n",
    "Circle 15 10 14\n",
    "Rectangle 30 30 100 150\n",
    "Circle 40 20 5\n",
    "Square 30 100 20\n",
    "'''"
   ]
  },
  {
   "cell_type": "code",
   "execution_count": 72,
   "metadata": {
    "hidden": true,
    "scrolled": true
   },
   "outputs": [
    {
     "data": {
      "text/plain": [
       "<Drawing [Circle x=15 y=10 r=14, Rectangle x=30 y=30 w=100 h=150, Circle x=40 y=20 r=5, Rectangle x=30 y=100 w=20 h=20]>"
      ]
     },
     "execution_count": 72,
     "metadata": {},
     "output_type": "execute_result"
    }
   ],
   "source": [
    "Drawing.from_string(raw_shapes)"
   ]
  }
 ],
 "metadata": {
  "kernelspec": {
   "display_name": "Python 3",
   "language": "python",
   "name": "python3"
  },
  "language_info": {
   "codemirror_mode": {
    "name": "ipython",
    "version": 3
   },
   "file_extension": ".py",
   "mimetype": "text/x-python",
   "name": "python",
   "nbconvert_exporter": "python",
   "pygments_lexer": "ipython3",
   "version": "3.5.3"
  },
  "toc": {
   "nav_menu": {},
   "number_sections": false,
   "sideBar": true,
   "skip_h1_title": false,
   "toc_cell": false,
   "toc_position": {},
   "toc_section_display": "block",
   "toc_window_display": false
  }
 },
 "nbformat": 4,
 "nbformat_minor": 2
}
