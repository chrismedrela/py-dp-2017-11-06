{
 "cells": [
  {
   "cell_type": "markdown",
   "metadata": {},
   "source": [
    "# Chain of Responsibility (łańcuch zobowiązań)"
   ]
  },
  {
   "cell_type": "markdown",
   "metadata": {},
   "source": [
    "# Ćwiczenie: propagacja zdarzeń w GUI"
   ]
  },
  {
   "cell_type": "markdown",
   "metadata": {},
   "source": [
    "W ćwiczeniu należy zaimplementować metodę `Widget.handle`"
   ]
  },
  {
   "cell_type": "code",
   "execution_count": 7,
   "metadata": {
    "collapsed": true
   },
   "outputs": [],
   "source": [
    "class Event(object):\n",
    "    def __init__(self):\n",
    "        self.handled = False\n",
    "\n",
    "class MouseClickEvent(Event):\n",
    "    handler_name = 'on_mouse_click'\n",
    "    \n",
    "    def __init__(self, x, y):\n",
    "        super().__init__()\n",
    "        self.x = x\n",
    "        self.y = y\n",
    "        \n",
    "class KeyPressedEvent(Event):\n",
    "    handler_name = 'on_key_pressed'\n",
    "    \n",
    "    def __init__(self, key):\n",
    "        super().__init__()\n",
    "        self.key = key\n",
    "        \n",
    "class CloseEvent(Event):\n",
    "    handler_name = 'on_close'"
   ]
  },
  {
   "cell_type": "code",
   "execution_count": 20,
   "metadata": {
    "collapsed": true
   },
   "outputs": [],
   "source": [
    "class Widget(object):\n",
    "    def __init__(self):\n",
    "        self.children = []\n",
    "                    \n",
    "    def handle(...):\n",
    "        pass"
   ]
  },
  {
   "cell_type": "code",
   "execution_count": 21,
   "metadata": {
    "collapsed": true
   },
   "outputs": [],
   "source": [
    "class MainWindow(Widget):\n",
    "    def on_close(self, event):\n",
    "        print('Closing MainWindow...')\n",
    "        \n",
    "class Frame(Widget):\n",
    "    pass\n",
    "            \n",
    "class TextBox(Widget):\n",
    "    def on_key_pressed(self, event):\n",
    "        print('TextBox handles keypressed event - {}'.format(event.key))\n",
    "        \n",
    "    def on_close(self, event):\n",
    "        print('TextBox handles close event.')\n",
    "        \n",
    "class Button(Widget):\n",
    "    def on_mouse_click(self, event):\n",
    "        print('Button handles mouse clicked at ({}, {})'.format(event.x, event.y))"
   ]
  },
  {
   "cell_type": "code",
   "execution_count": 22,
   "metadata": {
    "collapsed": true
   },
   "outputs": [],
   "source": [
    "txt_box = TextBox()\n",
    "btn_ok = Button()\n",
    "\n",
    "frame = Frame()\n",
    "frame.children = [txt_box, btn_ok]\n",
    "\n",
    "wnd = MainWindow()\n",
    "wnd.children = [frame]"
   ]
  },
  {
   "cell_type": "markdown",
   "metadata": {},
   "source": [
    "### Oczekiwane zachowanie"
   ]
  },
  {
   "cell_type": "code",
   "execution_count": 23,
   "metadata": {
    "scrolled": true
   },
   "outputs": [
    {
     "name": "stdout",
     "output_type": "stream",
     "text": [
      "Button handles mouse clicked at (1, 2)\n"
     ]
    }
   ],
   "source": [
    "wnd.handle(MouseClickEvent(1, 2))"
   ]
  },
  {
   "cell_type": "code",
   "execution_count": 24,
   "metadata": {},
   "outputs": [
    {
     "name": "stdout",
     "output_type": "stream",
     "text": [
      "TextBox handles keypressed event - K\n"
     ]
    }
   ],
   "source": [
    "wnd.handle(KeyPressedEvent('K'))"
   ]
  },
  {
   "cell_type": "code",
   "execution_count": 25,
   "metadata": {
    "scrolled": true
   },
   "outputs": [
    {
     "name": "stdout",
     "output_type": "stream",
     "text": [
      "Closing MainWindow...\n"
     ]
    }
   ],
   "source": [
    "wnd.handle(CloseEvent())"
   ]
  },
  {
   "cell_type": "markdown",
   "metadata": {},
   "source": [
    "### Hint"
   ]
  },
  {
   "cell_type": "code",
   "execution_count": 11,
   "metadata": {},
   "outputs": [
    {
     "name": "stdout",
     "output_type": "stream",
     "text": [
      "Button handles mouse clicked at (1, 2)\n"
     ]
    }
   ],
   "source": [
    "btn_ok.on_mouse_click(MouseClickEvent(1, 2))"
   ]
  },
  {
   "cell_type": "code",
   "execution_count": 12,
   "metadata": {},
   "outputs": [
    {
     "name": "stdout",
     "output_type": "stream",
     "text": [
      "Button handles mouse clicked at (1, 2)\n"
     ]
    }
   ],
   "source": [
    "method_name = 'on_mouse_click'\n",
    "method = getattr(btn_ok, method_name)\n",
    "method(MouseClickEvent(1, 2))"
   ]
  },
  {
   "cell_type": "code",
   "execution_count": 13,
   "metadata": {
    "scrolled": true
   },
   "outputs": [
    {
     "ename": "AttributeError",
     "evalue": "'Button' object has no attribute 'does not exist'",
     "output_type": "error",
     "traceback": [
      "\u001b[0;31m---------------------------------------------------------------------------\u001b[0m",
      "\u001b[0;31mAttributeError\u001b[0m                            Traceback (most recent call last)",
      "\u001b[0;32m<ipython-input-13-e23454e5c521>\u001b[0m in \u001b[0;36m<module>\u001b[0;34m()\u001b[0m\n\u001b[1;32m      1\u001b[0m \u001b[0mmethod_name\u001b[0m \u001b[0;34m=\u001b[0m \u001b[0;34m'does not exist'\u001b[0m\u001b[0;34m\u001b[0m\u001b[0m\n\u001b[0;32m----> 2\u001b[0;31m \u001b[0mmethod\u001b[0m \u001b[0;34m=\u001b[0m \u001b[0mgetattr\u001b[0m\u001b[0;34m(\u001b[0m\u001b[0mbtn_ok\u001b[0m\u001b[0;34m,\u001b[0m \u001b[0mmethod_name\u001b[0m\u001b[0;34m)\u001b[0m\u001b[0;34m\u001b[0m\u001b[0m\n\u001b[0m",
      "\u001b[0;31mAttributeError\u001b[0m: 'Button' object has no attribute 'does not exist'"
     ]
    }
   ],
   "source": [
    "method_name = 'does not exist'\n",
    "method = getattr(btn_ok, method_name)"
   ]
  }
 ],
 "metadata": {
  "kernelspec": {
   "display_name": "Python 3",
   "language": "python",
   "name": "python3"
  },
  "language_info": {
   "codemirror_mode": {
    "name": "ipython",
    "version": 3
   },
   "file_extension": ".py",
   "mimetype": "text/x-python",
   "name": "python",
   "nbconvert_exporter": "python",
   "pygments_lexer": "ipython3",
   "version": "3.5.3"
  },
  "toc": {
   "nav_menu": {},
   "number_sections": true,
   "sideBar": true,
   "skip_h1_title": false,
   "toc_cell": false,
   "toc_position": {},
   "toc_section_display": "block",
   "toc_window_display": false
  }
 },
 "nbformat": 4,
 "nbformat_minor": 2
}
