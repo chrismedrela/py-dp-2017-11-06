{
 "cells": [
  {
   "cell_type": "markdown",
   "metadata": {},
   "source": [
    "# Facade (fasada)"
   ]
  },
  {
   "cell_type": "markdown",
   "metadata": {},
   "source": [
    "# Zaawansowane użycie `logging`"
   ]
  },
  {
   "cell_type": "code",
   "execution_count": 107,
   "metadata": {},
   "outputs": [
    {
     "name": "stderr",
     "output_type": "stream",
     "text": [
      "2017-10-11 23:17:33,376 - simple_example - DEBUG - debug message\n",
      "DEBUG:simple_example:debug message\n",
      "2017-10-11 23:17:33,382 - simple_example - INFO - info message\n",
      "INFO:simple_example:info message\n",
      "/usr/local/lib/python3.5/dist-packages/ipykernel_launcher.py:24: DeprecationWarning: The 'warn' method is deprecated, use 'warning' instead\n",
      "2017-10-11 23:17:33,389 - simple_example - WARNING - warn message\n",
      "WARNING:simple_example:warn message\n",
      "2017-10-11 23:17:33,394 - simple_example - ERROR - error message\n",
      "ERROR:simple_example:error message\n",
      "2017-10-11 23:17:33,400 - simple_example - CRITICAL - critical message\n",
      "CRITICAL:simple_example:critical message\n"
     ]
    }
   ],
   "source": [
    "import logging\n",
    "\n",
    "# create logger\n",
    "logger = logging.getLogger('simple_example')\n",
    "logger.setLevel(logging.DEBUG)\n",
    "\n",
    "# create console handler and set level to debug\n",
    "ch = logging.StreamHandler()\n",
    "ch.setLevel(logging.DEBUG)\n",
    "\n",
    "# create formatter\n",
    "formatter = logging.Formatter('%(asctime)s - %(name)s - %(levelname)s - %(message)s')\n",
    "\n",
    "# add formatter to ch\n",
    "ch.setFormatter(formatter)\n",
    "\n",
    "# add ch to logger\n",
    "logger.handlers = []  # clear handlers, necessary if you rerun this cell\n",
    "logger.addHandler(ch)\n",
    "\n",
    "# 'application' code\n",
    "logger.debug('debug message')\n",
    "logger.info('info message')\n",
    "logger.warn('warn message')\n",
    "logger.error('error message')\n",
    "logger.critical('critical message')"
   ]
  },
  {
   "cell_type": "markdown",
   "metadata": {},
   "source": [
    "### Proste użycie `logging`"
   ]
  },
  {
   "cell_type": "code",
   "execution_count": 106,
   "metadata": {},
   "outputs": [
    {
     "name": "stderr",
     "output_type": "stream",
     "text": [
      "/usr/local/lib/python3.5/dist-packages/ipykernel_launcher.py:5: DeprecationWarning: The 'warn' function is deprecated, use 'warning' instead\n",
      "  \"\"\"\n",
      "WARNING:root:warn message\n",
      "ERROR:root:error message\n",
      "CRITICAL:root:critical message\n"
     ]
    }
   ],
   "source": [
    "import logging\n",
    "\n",
    "logging.debug('debug message')\n",
    "logging.info('info message')\n",
    "logging.warn('warn message')\n",
    "logging.error('error message')\n",
    "logging.critical('critical message')"
   ]
  }
 ],
 "metadata": {
  "kernelspec": {
   "display_name": "Python 3",
   "language": "python",
   "name": "python3"
  },
  "language_info": {
   "codemirror_mode": {
    "name": "ipython",
    "version": 3
   },
   "file_extension": ".py",
   "mimetype": "text/x-python",
   "name": "python",
   "nbconvert_exporter": "python",
   "pygments_lexer": "ipython3",
   "version": "3.5.3"
  },
  "toc": {
   "nav_menu": {},
   "number_sections": true,
   "sideBar": true,
   "skip_h1_title": false,
   "toc_cell": false,
   "toc_position": {},
   "toc_section_display": "block",
   "toc_window_display": false
  }
 },
 "nbformat": 4,
 "nbformat_minor": 2
}
