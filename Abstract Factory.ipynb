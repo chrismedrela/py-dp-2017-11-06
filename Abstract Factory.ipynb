{
 "cells": [
  {
   "cell_type": "markdown",
   "metadata": {},
   "source": [
    "# Abstract Factory (fabryka abstrakcyjna)"
   ]
  },
  {
   "cell_type": "markdown",
   "metadata": {},
   "source": [
    "# Przykład: Gra"
   ]
  },
  {
   "cell_type": "code",
   "execution_count": 32,
   "metadata": {
    "collapsed": true
   },
   "outputs": [],
   "source": [
    "import random"
   ]
  },
  {
   "cell_type": "code",
   "execution_count": 33,
   "metadata": {
    "collapsed": true
   },
   "outputs": [],
   "source": [
    "class SillySoldier(object):\n",
    "    def action(self):\n",
    "        print(\"SillySoldier in action\")\n",
    "\n",
    "class SillyMonster(object):\n",
    "    def action(self):\n",
    "        print(\"SillyMonster in action\")\n",
    "\n",
    "class SillySuperMonster(object):\n",
    "    def action(self):\n",
    "        print(\"SillySuperMonster in action\")"
   ]
  },
  {
   "cell_type": "code",
   "execution_count": 34,
   "metadata": {
    "collapsed": true
   },
   "outputs": [],
   "source": [
    "class BadSoldier(object):\n",
    "    def action(self):\n",
    "        print(\"BadSoldier in action\")\n",
    "\n",
    "class BadMonster(object):\n",
    "    def action(self):\n",
    "        print(\"BadMonster in action\")\n",
    "\n",
    "class BadSuperMonster(object):\n",
    "    def action(self):\n",
    "        print(\"BadSuperMonster in action\")"
   ]
  },
  {
   "cell_type": "code",
   "execution_count": 35,
   "metadata": {
    "collapsed": true
   },
   "outputs": [],
   "source": [
    "class EasyLevelEnemyFactory(object):\n",
    "    soldier_creator = SillySoldier\n",
    "    monster_creator = SillyMonster\n",
    "    super_monster_creator = SillySuperMonster\n",
    "\n",
    "class DieHardLevelEnemyFactory(object):\n",
    "    soldier_creator = BadSoldier\n",
    "    monster_creator = BadMonster\n",
    "    super_monster_creator = BadSuperMonster"
   ]
  },
  {
   "cell_type": "code",
   "execution_count": 36,
   "metadata": {
    "collapsed": true
   },
   "outputs": [],
   "source": [
    "class Game(object):\n",
    "    def __init__(self):\n",
    "        self.enemies = []\n",
    "\n",
    "    def set_level(self, level):\n",
    "        if level == 1:\n",
    "            self.enemy_factory = EasyLevelEnemyFactory()\n",
    "        elif level == 2:\n",
    "            self.enemy_factory = DieHardLevelEnemyFactory()\n",
    "\n",
    "    def play(self):\n",
    "        enemies = []\n",
    "\n",
    "        for i in range(10):\n",
    "            rnd = random.randint(0, 2)\n",
    "            if rnd == 0:\n",
    "                enemies.append(self.enemy_factory.soldier_creator())\n",
    "            elif rnd == 1:\n",
    "                enemies.append(self.enemy_factory.monster_creator())\n",
    "            else:\n",
    "                enemies.append(self.enemy_factory.super_monster_creator())\n",
    "\n",
    "        for enemy in enemies:\n",
    "            enemy.action()"
   ]
  },
  {
   "cell_type": "code",
   "execution_count": 37,
   "metadata": {},
   "outputs": [
    {
     "name": "stdout",
     "output_type": "stream",
     "text": [
      "SillySuperMonster in action\n",
      "SillyMonster in action\n",
      "SillySuperMonster in action\n",
      "SillyMonster in action\n",
      "SillySuperMonster in action\n",
      "SillySuperMonster in action\n",
      "SillyMonster in action\n",
      "SillySuperMonster in action\n",
      "SillyMonster in action\n",
      "SillyMonster in action\n"
     ]
    }
   ],
   "source": [
    "game = Game()\n",
    "game.set_level(1)\n",
    "game.play()"
   ]
  },
  {
   "cell_type": "code",
   "execution_count": 38,
   "metadata": {},
   "outputs": [
    {
     "name": "stdout",
     "output_type": "stream",
     "text": [
      "BadSoldier in action\n",
      "BadMonster in action\n",
      "BadMonster in action\n",
      "BadSoldier in action\n",
      "BadSoldier in action\n",
      "BadMonster in action\n",
      "BadSuperMonster in action\n",
      "BadSuperMonster in action\n",
      "BadMonster in action\n",
      "BadMonster in action\n"
     ]
    }
   ],
   "source": [
    "game.set_level(2)\n",
    "game.play()"
   ]
  }
 ],
 "metadata": {
  "kernelspec": {
   "display_name": "Python 3",
   "language": "python",
   "name": "python3"
  },
  "language_info": {
   "codemirror_mode": {
    "name": "ipython",
    "version": 3
   },
   "file_extension": ".py",
   "mimetype": "text/x-python",
   "name": "python",
   "nbconvert_exporter": "python",
   "pygments_lexer": "ipython3",
   "version": "3.5.3"
  },
  "toc": {
   "nav_menu": {},
   "number_sections": true,
   "sideBar": true,
   "skip_h1_title": false,
   "toc_cell": false,
   "toc_position": {},
   "toc_section_display": "block",
   "toc_window_display": false
  }
 },
 "nbformat": 4,
 "nbformat_minor": 2
}
