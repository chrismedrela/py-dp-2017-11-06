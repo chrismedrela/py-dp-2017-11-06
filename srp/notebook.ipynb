{
 "cells": [
  {
   "cell_type": "code",
   "execution_count": 2,
   "metadata": {},
   "outputs": [
    {
     "name": "stderr",
     "output_type": "stream",
     "text": [
      "..\n",
      "----------------------------------------------------------------------\n",
      "Ran 2 tests in 0.005s\n",
      "\n",
      "OK\n"
     ]
    },
    {
     "data": {
      "text/plain": [
       "<unittest.main.TestProgram at 0x7f5ca845bac8>"
      ]
     },
     "execution_count": 2,
     "metadata": {},
     "output_type": "execute_result"
    }
   ],
   "source": [
    "import re\n",
    "import unittest\n",
    "\n",
    "\n",
    "EMAIL_PATTERN = re.compile(r'^([\\w-]+(?:\\.[\\w-]+)*)@((?:[\\w-]+\\.)*\\w[\\w-]{0,66})\\.([a-z]{2,6}(?:\\.[a-z]{2})?)$')\n",
    "\n",
    "\n",
    "class Person(object):\n",
    "    def __init__(self, first_name, last_name, email):\n",
    "        self.first_name = first_name \n",
    "        self.last_name = last_name\n",
    "        if self.validate_email(email):\n",
    "            self.email = email\n",
    "        else:\n",
    "            raise ValueError('Invalid email')\n",
    "\n",
    "    def validate_email(self, email):\n",
    "        return EMAIL_PATTERN.match(email) is not None\n",
    "\n",
    "\n",
    "class PersonTests(unittest.TestCase):\n",
    "    def test_valid_email(self):\n",
    "        Person('Jan', 'Kowalski', 'jan@kowalski.pl')\n",
    "\n",
    "    def test_invalid_email(self):\n",
    "        with self.assertRaises(ValueError):\n",
    "            Person('Jan', 'Kowalski', 'invalid email')\n",
    "\n",
    "\n",
    "unittest.main(argv=['python', 'PersonTests'], exit=False)"
   ]
  },
  {
   "cell_type": "code",
   "execution_count": 3,
   "metadata": {},
   "outputs": [
    {
     "name": "stderr",
     "output_type": "stream",
     "text": [
      "..\n",
      "----------------------------------------------------------------------\n",
      "Ran 2 tests in 0.007s\n",
      "\n",
      "OK\n"
     ]
    },
    {
     "data": {
      "text/plain": [
       "<unittest.main.TestProgram at 0x7f5ca8478d68>"
      ]
     },
     "execution_count": 3,
     "metadata": {},
     "output_type": "execute_result"
    }
   ],
   "source": [
    "import re\n",
    "import unittest\n",
    "from typing import Union\n",
    "\n",
    "\n",
    "EMAIL_PATTERN = re.compile(r'^([\\w-]+(?:\\.[\\w-]+)*)@((?:[\\w-]+\\.)*\\w[\\w-]{0,66})\\.([a-z]{2,6}(?:\\.[a-z]{2})?)$')\n",
    "\n",
    "\n",
    "class Email(object):\n",
    "    def __init__(self, email):\n",
    "        if EMAIL_PATTERN.match(email) is None:\n",
    "            raise ValueError('Invalid email')        \n",
    "        else:\n",
    "            self._email = email\n",
    "\n",
    "\n",
    "class Person(object):\n",
    "    def __init__(self, first_name, last_name, email):\n",
    "        self.first_name = first_name \n",
    "        self.last_name = last_name\n",
    "        self.email = Email(email)\n",
    "\n",
    "\n",
    "class PersonTests(unittest.TestCase):\n",
    "    def test_valid_email(self):\n",
    "        Person('Jan', 'Kowalski', 'jan@kowalski.pl')\n",
    "\n",
    "    def test_invalid_email(self):\n",
    "        with self.assertRaises(ValueError):\n",
    "            Person('Jan', 'Kowalski', 'invalid email')\n",
    "\n",
    "            \n",
    "unittest.main(argv=['python', 'PersonTests'], exit=False)"
   ]
  },
  {
   "cell_type": "code",
   "execution_count": null,
   "metadata": {
    "collapsed": true
   },
   "outputs": [],
   "source": []
  }
 ],
 "metadata": {
  "kernelspec": {
   "display_name": "Python 3",
   "language": "python",
   "name": "python3"
  },
  "language_info": {
   "codemirror_mode": {
    "name": "ipython",
    "version": 3
   },
   "file_extension": ".py",
   "mimetype": "text/x-python",
   "name": "python",
   "nbconvert_exporter": "python",
   "pygments_lexer": "ipython3",
   "version": "3.5.3"
  },
  "toc": {
   "nav_menu": {},
   "number_sections": true,
   "sideBar": true,
   "skip_h1_title": false,
   "toc_cell": false,
   "toc_position": {},
   "toc_section_display": "block",
   "toc_window_display": false
  }
 },
 "nbformat": 4,
 "nbformat_minor": 2
}
