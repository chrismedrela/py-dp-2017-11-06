{
 "cells": [
  {
   "cell_type": "markdown",
   "metadata": {},
   "source": [
    "# Composite (kompozyt)"
   ]
  },
  {
   "cell_type": "markdown",
   "metadata": {},
   "source": [
    "# Ćwiczenie: Drzewa wyrażeń"
   ]
  },
  {
   "cell_type": "code",
   "execution_count": 1,
   "metadata": {
    "collapsed": true
   },
   "outputs": [],
   "source": [
    "class Number(object):\n",
    "    def __init__(self, value):\n",
    "        self.value = value\n",
    "    \n",
    "    def __repr__(self):\n",
    "        return str(self.value)\n",
    "    \n",
    "    def eval(self, env):\n",
    "        return self.value\n",
    "    \n",
    "class Variable(object): pass\n",
    "class Sum(object): pass\n",
    "class Product(object): pass"
   ]
  },
  {
   "cell_type": "markdown",
   "metadata": {},
   "source": [
    "### Rozwiązanie"
   ]
  },
  {
   "cell_type": "code",
   "execution_count": 4,
   "metadata": {
    "collapsed": true
   },
   "outputs": [],
   "source": [
    "class Variable(object):\n",
    "    def __init__(self, varname):\n",
    "        self.varname = varname\n",
    "        \n",
    "    def __repr__(self):\n",
    "        return str(self.varname)\n",
    "    \n",
    "    def eval(self, env):\n",
    "        return env.get(self.varname, 0)\n",
    "    \n",
    "class Sum(object):\n",
    "    def __init__(self, first, second):\n",
    "        self._first = first\n",
    "        self._second = second\n",
    "        \n",
    "    def __repr__(self):\n",
    "        return \"({} + {})\".format(self._first, self._second)\n",
    "    \n",
    "    def eval(self, env):\n",
    "        return self._first.eval(env) + self._second.eval(env)\n",
    "    \n",
    "class Product(object):\n",
    "    def __init__(self, first, second):\n",
    "        self._first = first\n",
    "        self._second = second\n",
    "        \n",
    "    def __repr__(self):\n",
    "        return \"({} * {})\".format(self._first, self._second)\n",
    "    \n",
    "    def eval(self, env):\n",
    "        return self._first.eval(env) * self._second.eval(env)    "
   ]
  },
  {
   "cell_type": "markdown",
   "metadata": {},
   "source": [
    "### Usprawnienie\n",
    "\n",
    "Wersja, w której `Sum` i `Product` mogą mieć dowolną liczbę dzieci (w poprzedniej wersji muszą mieć dokładnie dwójkę dzieci)."
   ]
  },
  {
   "cell_type": "code",
   "execution_count": 99,
   "metadata": {
    "collapsed": true
   },
   "outputs": [],
   "source": [
    "class Sum(object):\n",
    "    def __init__(self, *components):\n",
    "        self.components = components\n",
    "        \n",
    "    def __repr__(self):\n",
    "        inside = \" + \".join(str(c) for c in self.components)\n",
    "        return \"(\" + inside + \")\"\n",
    "    \n",
    "    def eval(self, env):\n",
    "        return sum(c.eval(env) for c in self.components)\n",
    "    \n",
    "class Product(object):\n",
    "    def __init__(self, *components):\n",
    "        self.components = components\n",
    "        \n",
    "    def __repr__(self):\n",
    "        inside = \" * \".join(str(c) for c in self.components)\n",
    "        return \"(\" + inside + \")\"\n",
    "    \n",
    "    def eval(self, env):\n",
    "        retval = 1\n",
    "        for c in self.components:\n",
    "            retval *= c.eval(env)\n",
    "        return retval"
   ]
  },
  {
   "cell_type": "markdown",
   "metadata": {},
   "source": [
    "### Oczekiwane zachowanie (`__repr__`)"
   ]
  },
  {
   "cell_type": "code",
   "execution_count": 5,
   "metadata": {
    "collapsed": true
   },
   "outputs": [],
   "source": [
    "assert repr(Number(42)) == '42'\n",
    "assert repr(Variable('x')) == 'x'\n",
    "assert repr(Sum(Number(42), Variable('x'))) == '(42 + x)'\n",
    "assert repr(Product(Number(42), Variable('x'))) == '(42 * x)'\n",
    "assert repr(Sum(Product(Number(2), Variable('x')), Number(1))) == '((2 * x) + 1)'"
   ]
  },
  {
   "cell_type": "markdown",
   "metadata": {},
   "source": [
    "### Oczekiwane zachowanie (eval)"
   ]
  },
  {
   "cell_type": "code",
   "execution_count": 6,
   "metadata": {
    "collapsed": true
   },
   "outputs": [],
   "source": [
    "assert Number(42).eval({}) == 42\n",
    "assert Variable('x').eval({'x': 5}) == 5\n",
    "assert Sum(Number(3), Variable('x')).eval({'x': 5}) == 8\n",
    "assert Product(Number(3), Variable('x')).eval({'x': 5}) == 15"
   ]
  },
  {
   "cell_type": "code",
   "execution_count": 7,
   "metadata": {
    "scrolled": true
   },
   "outputs": [
    {
     "data": {
      "text/plain": [
       "((2 * x) + 1)"
      ]
     },
     "execution_count": 7,
     "metadata": {},
     "output_type": "execute_result"
    }
   ],
   "source": [
    "expr = Sum(Product(Number(2), Variable('x')), Number(1))\n",
    "expr"
   ]
  },
  {
   "cell_type": "code",
   "execution_count": 8,
   "metadata": {},
   "outputs": [
    {
     "data": {
      "text/plain": [
       "11"
      ]
     },
     "execution_count": 8,
     "metadata": {},
     "output_type": "execute_result"
    }
   ],
   "source": [
    "expr.eval({'x': 5})"
   ]
  },
  {
   "cell_type": "code",
   "execution_count": 9,
   "metadata": {},
   "outputs": [
    {
     "data": {
      "text/plain": [
       "17"
      ]
     },
     "execution_count": 9,
     "metadata": {},
     "output_type": "execute_result"
    }
   ],
   "source": [
    "expr.eval({'x': 8})"
   ]
  },
  {
   "cell_type": "markdown",
   "metadata": {},
   "source": [
    "### Hint"
   ]
  },
  {
   "cell_type": "code",
   "execution_count": null,
   "metadata": {
    "collapsed": true
   },
   "outputs": [],
   "source": [
    "\" + \".join(map(repr, self.children))"
   ]
  }
 ],
 "metadata": {
  "kernelspec": {
   "display_name": "Python 3",
   "language": "python",
   "name": "python3"
  },
  "language_info": {
   "codemirror_mode": {
    "name": "ipython",
    "version": 3
   },
   "file_extension": ".py",
   "mimetype": "text/x-python",
   "name": "python",
   "nbconvert_exporter": "python",
   "pygments_lexer": "ipython3",
   "version": "3.5.3"
  },
  "toc": {
   "nav_menu": {},
   "number_sections": false,
   "sideBar": true,
   "skip_h1_title": false,
   "toc_cell": false,
   "toc_position": {},
   "toc_section_display": "block",
   "toc_window_display": false
  }
 },
 "nbformat": 4,
 "nbformat_minor": 2
}
