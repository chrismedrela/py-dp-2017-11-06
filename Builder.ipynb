{
 "cells": [
  {
   "cell_type": "markdown",
   "metadata": {},
   "source": [
    "## Ćwiczenie: HTML i CSV i builder"
   ]
  },
  {
   "cell_type": "markdown",
   "metadata": {},
   "source": [
    "Jako ćwiczenie należy zaimplementować `HTMLBuilder`."
   ]
  },
  {
   "cell_type": "code",
   "execution_count": 42,
   "metadata": {
    "collapsed": true
   },
   "outputs": [],
   "source": [
    "file_content = '''\n",
    "Jan Kowalski M 45\n",
    "Anna Nowak F 23\n",
    "Zenon Nijaki M 33\n",
    "Ewa Nowakowska F 19\n",
    "'''.strip()"
   ]
  },
  {
   "cell_type": "code",
   "execution_count": 43,
   "metadata": {
    "collapsed": true
   },
   "outputs": [],
   "source": [
    "class BaseBuilder:\n",
    "    def add_header(self, header): return self\n",
    "    def begin_data(self): return self\n",
    "    def add_row(self, row): return self\n",
    "    def end_data(self): return self\n",
    "    def add_footer(self, footer): return self\n",
    "    def get_report(self): pass"
   ]
  },
  {
   "cell_type": "code",
   "execution_count": 44,
   "metadata": {
    "collapsed": true
   },
   "outputs": [],
   "source": [
    "class HTMLBuilder(BaseBuilder):\n",
    "    pass    "
   ]
  },
  {
   "cell_type": "code",
   "execution_count": 49,
   "metadata": {
    "collapsed": true
   },
   "outputs": [],
   "source": [
    "class CSVBuilder(BaseBuilder):\n",
    "    def __init__(self):\n",
    "        self._report_rows = []\n",
    "        \n",
    "    def add_row(self, data):\n",
    "        row = \",\".join(map(str, data))\n",
    "        self._report_rows.append(row)\n",
    "        return self\n",
    "        \n",
    "    def get_report(self):\n",
    "        return \"\\n\".join(self._report_rows)"
   ]
  },
  {
   "cell_type": "code",
   "execution_count": 50,
   "metadata": {},
   "outputs": [
    {
     "name": "stdout",
     "output_type": "stream",
     "text": [
      "a,b,5\n",
      "c,d,8\n"
     ]
    }
   ],
   "source": [
    "doc = CSVBuilder() \\\n",
    "    .add_header('footer') \\\n",
    "    .begin_data() \\\n",
    "    .add_row(['a', 'b', 5]) \\\n",
    "    .add_row(['c', 'd', 8]) \\\n",
    "    .end_data() \\\n",
    "    .add_footer('footer') \\\n",
    "    .get_report()    \n",
    "print(doc)"
   ]
  },
  {
   "cell_type": "markdown",
   "metadata": {},
   "source": [
    "### Data Parser i main"
   ]
  },
  {
   "cell_type": "code",
   "execution_count": 54,
   "metadata": {
    "collapsed": true
   },
   "outputs": [],
   "source": [
    "class DataParser:  # Director\n",
    "    def __init__(self, report_builder):\n",
    "        self.report_builder = report_builder\n",
    "        \n",
    "    def parse(self, file_content):\n",
    "        self.report_builder.add_header('Report').begin_data()\n",
    "        for line in file_content.split('\\n'):\n",
    "            data = line.split()\n",
    "            self.report_builder.add_row(data)\n",
    "        self.report_builder.end_data().add_footer('End of report')"
   ]
  },
  {
   "cell_type": "code",
   "execution_count": 55,
   "metadata": {
    "collapsed": true
   },
   "outputs": [],
   "source": [
    "def main(report_builder, stream):\n",
    "    parser = DataParser(report_builder)\n",
    "    parser.parse(stream)\n",
    "    doc = report_builder.get_report()\n",
    "    print(doc)"
   ]
  },
  {
   "cell_type": "code",
   "execution_count": 56,
   "metadata": {},
   "outputs": [
    {
     "name": "stdout",
     "output_type": "stream",
     "text": [
      "<h1>Report</h1>\n",
      "<table>\n",
      "  <tr>\n",
      "    <td>Jan</td>\n",
      "    <td>Kowalski</td>\n",
      "    <td>M</td>\n",
      "    <td>45</td>\n",
      "  </tr>\n",
      "  <tr>\n",
      "    <td>Anna</td>\n",
      "    <td>Nowak</td>\n",
      "    <td>F</td>\n",
      "    <td>23</td>\n",
      "  </tr>\n",
      "  <tr>\n",
      "    <td>Zenon</td>\n",
      "    <td>Nijaki</td>\n",
      "    <td>M</td>\n",
      "    <td>33</td>\n",
      "  </tr>\n",
      "  <tr>\n",
      "    <td>Ewa</td>\n",
      "    <td>Nowakowska</td>\n",
      "    <td>F</td>\n",
      "    <td>19</td>\n",
      "  </tr>\n",
      "</table>\n",
      "<div class=\"footer\">End of report</div>\n",
      "\n"
     ]
    }
   ],
   "source": [
    "main(HTMLBuilder(), file_content)"
   ]
  },
  {
   "cell_type": "code",
   "execution_count": 61,
   "metadata": {},
   "outputs": [
    {
     "name": "stdout",
     "output_type": "stream",
     "text": [
      "Jan,Kowalski,M,45\r\n",
      "Anna,Nowak,F,23\r\n",
      "Zenon,Nijaki,M,33\r\n",
      "Ewa,Nowakowska,F,19\r\n",
      "\n"
     ]
    }
   ],
   "source": [
    "main(CSVBuilder(), file_content)"
   ]
  }
 ],
 "metadata": {
  "kernelspec": {
   "display_name": "Python 3",
   "language": "python",
   "name": "python3"
  },
  "language_info": {
   "codemirror_mode": {
    "name": "ipython",
    "version": 3
   },
   "file_extension": ".py",
   "mimetype": "text/x-python",
   "name": "python",
   "nbconvert_exporter": "python",
   "pygments_lexer": "ipython3",
   "version": "3.5.3"
  },
  "toc": {
   "nav_menu": {},
   "number_sections": true,
   "sideBar": true,
   "skip_h1_title": false,
   "toc_cell": false,
   "toc_position": {},
   "toc_section_display": "block",
   "toc_window_display": false
  }
 },
 "nbformat": 4,
 "nbformat_minor": 2
}
