{
 "cells": [
  {
   "cell_type": "markdown",
   "metadata": {},
   "source": [
    "# Decorator (dekorator)"
   ]
  },
  {
   "cell_type": "markdown",
   "metadata": {},
   "source": [
    "## Czym dekoratory nie są?"
   ]
  },
  {
   "cell_type": "code",
   "execution_count": null,
   "metadata": {
    "collapsed": true
   },
   "outputs": [],
   "source": [
    "@fdafhdsjhafd\n",
    "def foo():\n",
    "    pass"
   ]
  },
  {
   "cell_type": "markdown",
   "metadata": {},
   "source": [
    "## Czym są dekoratory?\n",
    "\n",
    "Przykład z Photo, ramką i tekstem."
   ]
  },
  {
   "cell_type": "markdown",
   "metadata": {},
   "source": [
    "## Ćwiczenie: Starbucks"
   ]
  },
  {
   "cell_type": "code",
   "execution_count": 1,
   "metadata": {
    "collapsed": true
   },
   "outputs": [],
   "source": [
    "class BaseCoffee(object):\n",
    "    def __init__(self, price, description):\n",
    "        self._price = price\n",
    "        self._description = description\n",
    "\n",
    "    @property\n",
    "    def price(self):\n",
    "        return self._price\n",
    "\n",
    "    @property\n",
    "    def description(self):\n",
    "        return self._description"
   ]
  },
  {
   "cell_type": "code",
   "execution_count": 2,
   "metadata": {
    "collapsed": true
   },
   "outputs": [],
   "source": [
    "class Espresso(BaseCoffee):\n",
    "    def __init__(self, price=4.0):\n",
    "        super().__init__(price, \"Espresso\")\n",
    "\n",
    "    def prepare(self):\n",
    "        print(\"Making a perfect espresso: 8g of coffee, 96 Celsius, 16 bar\")"
   ]
  },
  {
   "cell_type": "code",
   "execution_count": 3,
   "metadata": {
    "collapsed": true
   },
   "outputs": [],
   "source": [
    "class Cappuccino(BaseCoffee):\n",
    "    def __init__(self, price=6.0):\n",
    "        super().__init__(price, \"Cappuccino\")\n",
    "\n",
    "    def prepare(self):\n",
    "        print(\"Making an espresso combined with a perfect milk foam\")"
   ]
  },
  {
   "cell_type": "code",
   "execution_count": 4,
   "metadata": {},
   "outputs": [
    {
     "ename": "IndentationError",
     "evalue": "expected an indented block (<ipython-input-4-1e8b5b16543e>, line 2)",
     "output_type": "error",
     "traceback": [
      "\u001b[0;36m  File \u001b[0;32m\"<ipython-input-4-1e8b5b16543e>\"\u001b[0;36m, line \u001b[0;32m2\u001b[0m\n\u001b[0;31m    class Whipped(Decorator): pass  # cena 2.5, prepare: \"Adding a whipped cream\"\u001b[0m\n\u001b[0m        ^\u001b[0m\n\u001b[0;31mIndentationError\u001b[0m\u001b[0;31m:\u001b[0m expected an indented block\n"
     ]
    }
   ],
   "source": [
    "class Decorator(BaseCoffee): \n",
    "class Whipped(Decorator): pass  # cena 2.5, prepare: \"Adding a whipped cream\"\n",
    "class Whisky(Decorator): pass  # cena 10.0, prepare: \"Pouring a 50cl of whisky\""
   ]
  },
  {
   "cell_type": "markdown",
   "metadata": {},
   "source": [
    "### Rozwiązanie"
   ]
  },
  {
   "cell_type": "code",
   "execution_count": 5,
   "metadata": {
    "collapsed": true
   },
   "outputs": [],
   "source": [
    "class Decorator(BaseCoffee):\n",
    "    def __init__(self, coffee, price, description):\n",
    "        super().__init__(price, description)\n",
    "        self._coffee = coffee\n",
    "\n",
    "    @property\n",
    "    def price(self):\n",
    "        return self._coffee.price + self._price\n",
    "\n",
    "    @property\n",
    "    def description(self):\n",
    "        return self._coffee.description + \" + \" + self._description\n",
    "\n",
    "    def prepare(self):\n",
    "        self._coffee.prepare()\n",
    "\n",
    "class Whipped(Decorator):\n",
    "    def __init__(self, coffee):\n",
    "        super().__init__(coffee, 2.5, \"Whipped Cream\")\n",
    "\n",
    "    def prepare(self):\n",
    "        super().prepare()\n",
    "        print(\"Adding a whipped cream\")\n",
    "\n",
    "class Whisky(Decorator):\n",
    "    def __init__(self, coffee):\n",
    "        super().__init__(coffee, 10.0, \"Whisky\")\n",
    "\n",
    "    def prepare(self):\n",
    "        super().prepare()\n",
    "        print(\"Pouring a 50cl of whisky\")"
   ]
  },
  {
   "cell_type": "markdown",
   "metadata": {},
   "source": [
    "### Oczekiwane zachowanie (podzadanie)"
   ]
  },
  {
   "cell_type": "code",
   "execution_count": 6,
   "metadata": {
    "collapsed": true
   },
   "outputs": [],
   "source": [
    "coffee = Whisky(Espresso())"
   ]
  },
  {
   "cell_type": "code",
   "execution_count": 7,
   "metadata": {},
   "outputs": [
    {
     "data": {
      "text/plain": [
       "14.0"
      ]
     },
     "execution_count": 7,
     "metadata": {},
     "output_type": "execute_result"
    }
   ],
   "source": [
    "coffee.price"
   ]
  },
  {
   "cell_type": "code",
   "execution_count": 8,
   "metadata": {},
   "outputs": [
    {
     "data": {
      "text/plain": [
       "'Espresso + Whisky'"
      ]
     },
     "execution_count": 8,
     "metadata": {},
     "output_type": "execute_result"
    }
   ],
   "source": [
    "coffee.description"
   ]
  },
  {
   "cell_type": "code",
   "execution_count": 9,
   "metadata": {},
   "outputs": [
    {
     "name": "stdout",
     "output_type": "stream",
     "text": [
      "Making a perfect espresso: 8g of coffee, 96 Celsius, 16 bar\n",
      "Pouring a 50cl of whisky\n"
     ]
    }
   ],
   "source": [
    "coffee.prepare()"
   ]
  },
  {
   "cell_type": "markdown",
   "metadata": {},
   "source": [
    "### Oczekiwane zachowanie"
   ]
  },
  {
   "cell_type": "code",
   "execution_count": 10,
   "metadata": {
    "collapsed": true
   },
   "outputs": [],
   "source": [
    "coffee = Whisky(Whipped(Espresso()))"
   ]
  },
  {
   "cell_type": "code",
   "execution_count": 11,
   "metadata": {},
   "outputs": [
    {
     "data": {
      "text/plain": [
       "16.5"
      ]
     },
     "execution_count": 11,
     "metadata": {},
     "output_type": "execute_result"
    }
   ],
   "source": [
    "coffee.price"
   ]
  },
  {
   "cell_type": "code",
   "execution_count": 12,
   "metadata": {},
   "outputs": [
    {
     "data": {
      "text/plain": [
       "'Espresso + Whipped Cream + Whisky'"
      ]
     },
     "execution_count": 12,
     "metadata": {},
     "output_type": "execute_result"
    }
   ],
   "source": [
    "coffee.description"
   ]
  },
  {
   "cell_type": "code",
   "execution_count": 13,
   "metadata": {
    "scrolled": true
   },
   "outputs": [
    {
     "name": "stdout",
     "output_type": "stream",
     "text": [
      "Making a perfect espresso: 8g of coffee, 96 Celsius, 16 bar\n",
      "Adding a whipped cream\n",
      "Pouring a 50cl of whisky\n"
     ]
    }
   ],
   "source": [
    "coffee.prepare()"
   ]
  },
  {
   "cell_type": "markdown",
   "metadata": {},
   "source": [
    "# Ćwiczenie: Builder do Starbucks"
   ]
  },
  {
   "cell_type": "code",
   "execution_count": 93,
   "metadata": {
    "collapsed": true
   },
   "outputs": [],
   "source": [
    "class CoffeeBuilder(object):\n",
    "    def __init__(self):\n",
    "        self._coffee = None\n",
    "\n",
    "    def create_base(self, base):\n",
    "        if not issubclass(base, BaseCoffee):\n",
    "            raise TypeError(\"base must be derived from BaseCoffee\")\n",
    "\n",
    "        self._coffee = base()\n",
    "        return self\n",
    "\n",
    "    def add(self, condiment):\n",
    "        if not issubclass(condiment, Decorator):\n",
    "            raise TypeError(\"the condiment must be derived from Derived\")\n",
    "\n",
    "        self._coffee = condiment(self._coffee)\n",
    "        return self\n",
    "\n",
    "    def get_coffee(self):\n",
    "        return self._coffee"
   ]
  },
  {
   "cell_type": "markdown",
   "metadata": {},
   "source": [
    "### Oczekiwane zachowanie"
   ]
  },
  {
   "cell_type": "code",
   "execution_count": null,
   "metadata": {
    "collapsed": true
   },
   "outputs": [],
   "source": [
    "coffee = CoffeeBuilder().create_base(Espresso).add(Whipped) \\\n",
    "    .add(Whisky).get_coffee()"
   ]
  },
  {
   "cell_type": "code",
   "execution_count": 94,
   "metadata": {},
   "outputs": [
    {
     "data": {
      "text/plain": [
       "'Espresso + Whipped Cream + Whisky'"
      ]
     },
     "execution_count": 94,
     "metadata": {},
     "output_type": "execute_result"
    }
   ],
   "source": [
    "coffee.description"
   ]
  },
  {
   "cell_type": "code",
   "execution_count": 95,
   "metadata": {},
   "outputs": [
    {
     "data": {
      "text/plain": [
       "16.5"
      ]
     },
     "execution_count": 95,
     "metadata": {},
     "output_type": "execute_result"
    }
   ],
   "source": [
    "coffee.price"
   ]
  },
  {
   "cell_type": "code",
   "execution_count": 96,
   "metadata": {},
   "outputs": [
    {
     "name": "stdout",
     "output_type": "stream",
     "text": [
      "Making a perfect espresso: 8g of coffee, 96 Celsius, 16 bar\n",
      "Adding a whipped cream\n",
      "Pouring a 50cl of whisky\n"
     ]
    }
   ],
   "source": [
    "coffee.prepare()"
   ]
  }
 ],
 "metadata": {
  "kernelspec": {
   "display_name": "Python 3",
   "language": "python",
   "name": "python3"
  },
  "language_info": {
   "codemirror_mode": {
    "name": "ipython",
    "version": 3
   },
   "file_extension": ".py",
   "mimetype": "text/x-python",
   "name": "python",
   "nbconvert_exporter": "python",
   "pygments_lexer": "ipython3",
   "version": "3.5.3"
  },
  "toc": {
   "nav_menu": {},
   "number_sections": true,
   "sideBar": true,
   "skip_h1_title": false,
   "toc_cell": false,
   "toc_position": {},
   "toc_section_display": "block",
   "toc_window_display": false
  }
 },
 "nbformat": 4,
 "nbformat_minor": 2
}
