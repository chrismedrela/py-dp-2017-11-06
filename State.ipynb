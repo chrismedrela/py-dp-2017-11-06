{
 "cells": [
  {
   "cell_type": "markdown",
   "metadata": {},
   "source": [
    "# State (stan)"
   ]
  },
  {
   "cell_type": "markdown",
   "metadata": {},
   "source": [
    "# Przykład: TurnStile"
   ]
  },
  {
   "cell_type": "markdown",
   "metadata": {},
   "source": [
    "### Zła implementacja (bez użycia wzorca stanu)"
   ]
  },
  {
   "cell_type": "code",
   "execution_count": 40,
   "metadata": {
    "collapsed": true
   },
   "outputs": [],
   "source": [
    "class Turnstile(object):\n",
    "    def __init__(self):\n",
    "        self._state = 'locked'\n",
    "        \n",
    "    def coin(self):\n",
    "        if self._state == 'locked':\n",
    "            self.unlock()\n",
    "            self._state = 'unlocked'\n",
    "        else:  # self._state == 'unlocked'\n",
    "            self.display('Thank you')\n",
    "            \n",
    "    def pass_(self):\n",
    "        if self._state == 'locked':\n",
    "            self.alarm()\n",
    "        else:  # self._state == 'unlocked'\n",
    "            self.lock()\n",
    "            self._state = 'locked'\n",
    "            \n",
    "    def unlock(self):\n",
    "        print('unlocking turnstile')\n",
    "        \n",
    "    def lock(self):\n",
    "        print('locking turnstile')\n",
    "        \n",
    "    def alarm(self):\n",
    "        print('alarm!')\n",
    "        \n",
    "    def display(self, text):\n",
    "        print('>>> {} <<<'.format(text))"
   ]
  },
  {
   "cell_type": "code",
   "execution_count": 41,
   "metadata": {},
   "outputs": [
    {
     "name": "stdout",
     "output_type": "stream",
     "text": [
      "unlocking turnstile\n",
      "locking turnstile\n",
      "alarm!\n",
      "unlocking turnstile\n",
      "locking turnstile\n",
      "unlocking turnstile\n",
      ">>> Thank you <<<\n",
      ">>> Thank you <<<\n"
     ]
    }
   ],
   "source": [
    "t = Turnstile()\n",
    "t.coin()\n",
    "t.pass_()\n",
    "t.pass_()\n",
    "t.coin()\n",
    "t.pass_()\n",
    "t.coin()\n",
    "t.coin()\n",
    "t.coin()"
   ]
  },
  {
   "cell_type": "markdown",
   "metadata": {},
   "source": [
    "### Dobra implementacja (z użyciem wzorca stanu)"
   ]
  },
  {
   "cell_type": "code",
   "execution_count": 44,
   "metadata": {
    "collapsed": true
   },
   "outputs": [],
   "source": [
    "class LockedState(object):\n",
    "    def __init__(self, turnstile):\n",
    "        self._turnstile = turnstile\n",
    "        \n",
    "    def coin(self):\n",
    "        self._turnstile.unlock()\n",
    "        self._turnstile.set_state(UnlockedState)\n",
    "        \n",
    "    def pass_(self):\n",
    "        self._turnstile.alarm()\n",
    "        \n",
    "\n",
    "class UnlockedState(object):\n",
    "    def __init__(self, turnstile):\n",
    "        self._turnstile = turnstile\n",
    "        \n",
    "    def coin(self):\n",
    "        self._turnstile.display('Thank you')\n",
    "        \n",
    "    def pass_(self):\n",
    "        self._turnstile.lock()\n",
    "        self._turnstile.set_state(LockedState)\n",
    "\n",
    "\n",
    "class Turnstile(object):\n",
    "    def __init__(self):\n",
    "        self.set_state(LockedState)\n",
    "        \n",
    "    def coin(self):\n",
    "        self._state.coin()\n",
    "            \n",
    "    def pass_(self):\n",
    "        self._state.pass_()\n",
    "            \n",
    "    def set_state(self, state_cls):\n",
    "        self._state = state_cls(self)\n",
    "            \n",
    "    def unlock(self):\n",
    "        print('unlocking turnstile')\n",
    "        \n",
    "    def lock(self):\n",
    "        print('locking turnstile')\n",
    "        \n",
    "    def alarm(self):\n",
    "        print('alarm!')\n",
    "        \n",
    "    def display(self, text):\n",
    "        print('>>> {} <<<'.format(text))"
   ]
  },
  {
   "cell_type": "code",
   "execution_count": 45,
   "metadata": {},
   "outputs": [
    {
     "name": "stdout",
     "output_type": "stream",
     "text": [
      "unlocking turnstile\n",
      "locking turnstile\n",
      "alarm!\n",
      "unlocking turnstile\n",
      "locking turnstile\n",
      "unlocking turnstile\n",
      ">>> Thank you <<<\n",
      ">>> Thank you <<<\n"
     ]
    }
   ],
   "source": [
    "t = Turnstile()\n",
    "t.coin()\n",
    "t.pass_()\n",
    "t.pass_()\n",
    "t.coin()\n",
    "t.pass_()\n",
    "t.coin()\n",
    "t.coin()\n",
    "t.coin()"
   ]
  },
  {
   "cell_type": "markdown",
   "metadata": {},
   "source": [
    "# Ćwiczenie: BankAccount"
   ]
  },
  {
   "cell_type": "markdown",
   "metadata": {},
   "source": [
    "### Zła implementacja (bez użycia wzorca stanu)"
   ]
  },
  {
   "cell_type": "code",
   "execution_count": 135,
   "metadata": {
    "collapsed": true
   },
   "outputs": [],
   "source": [
    "class InsufficientFunds(Exception):\n",
    "    pass\n",
    "\n",
    "class BankAccount(object):\n",
    "    def __init__(self, balance=0.0):\n",
    "        self._balance = balance\n",
    "\n",
    "    @property\n",
    "    def balance(self):\n",
    "        return self._balance\n",
    "\n",
    "    def get_state(self):\n",
    "        return \"Normal\" if self.balance >= 0 else \"Overdraft\"\n",
    "\n",
    "    def deposit(self, amount):\n",
    "        self._balance += amount\n",
    "        \n",
    "    def withdraw(self, amount):\n",
    "        if self._balance < 0:\n",
    "            raise InsufficientFunds\n",
    "        self._balance -= amount"
   ]
  },
  {
   "cell_type": "markdown",
   "metadata": {},
   "source": [
    "### Oczekiwane zachowanie"
   ]
  },
  {
   "cell_type": "code",
   "execution_count": 136,
   "metadata": {},
   "outputs": [
    {
     "data": {
      "text/plain": [
       "500.0"
      ]
     },
     "execution_count": 136,
     "metadata": {},
     "output_type": "execute_result"
    }
   ],
   "source": [
    "account = BankAccount()\n",
    "account.deposit(500)\n",
    "account.balance"
   ]
  },
  {
   "cell_type": "code",
   "execution_count": 137,
   "metadata": {},
   "outputs": [
    {
     "data": {
      "text/plain": [
       "'Normal'"
      ]
     },
     "execution_count": 137,
     "metadata": {},
     "output_type": "execute_result"
    }
   ],
   "source": [
    "account.get_state()"
   ]
  },
  {
   "cell_type": "code",
   "execution_count": 138,
   "metadata": {
    "collapsed": true
   },
   "outputs": [],
   "source": [
    "account.withdraw(1000)"
   ]
  },
  {
   "cell_type": "code",
   "execution_count": 139,
   "metadata": {},
   "outputs": [
    {
     "data": {
      "text/plain": [
       "-500.0"
      ]
     },
     "execution_count": 139,
     "metadata": {},
     "output_type": "execute_result"
    }
   ],
   "source": [
    "account.balance"
   ]
  },
  {
   "cell_type": "code",
   "execution_count": 140,
   "metadata": {},
   "outputs": [
    {
     "data": {
      "text/plain": [
       "'Overdraft'"
      ]
     },
     "execution_count": 140,
     "metadata": {},
     "output_type": "execute_result"
    }
   ],
   "source": [
    "account.get_state()"
   ]
  },
  {
   "cell_type": "code",
   "execution_count": 141,
   "metadata": {
    "scrolled": true
   },
   "outputs": [
    {
     "ename": "InsufficientFunds",
     "evalue": "",
     "output_type": "error",
     "traceback": [
      "\u001b[0;31m---------------------------------------------------------------------------\u001b[0m",
      "\u001b[0;31mInsufficientFunds\u001b[0m                         Traceback (most recent call last)",
      "\u001b[0;32m<ipython-input-141-42bed3e8cf8c>\u001b[0m in \u001b[0;36m<module>\u001b[0;34m()\u001b[0m\n\u001b[0;32m----> 1\u001b[0;31m \u001b[0maccount\u001b[0m\u001b[0;34m.\u001b[0m\u001b[0mwithdraw\u001b[0m\u001b[0;34m(\u001b[0m\u001b[0;36m1000\u001b[0m\u001b[0;34m)\u001b[0m\u001b[0;34m\u001b[0m\u001b[0m\n\u001b[0m",
      "\u001b[0;32m<ipython-input-135-d861652ffefb>\u001b[0m in \u001b[0;36mwithdraw\u001b[0;34m(self, amount)\u001b[0m\n\u001b[1;32m     18\u001b[0m     \u001b[0;32mdef\u001b[0m \u001b[0mwithdraw\u001b[0m\u001b[0;34m(\u001b[0m\u001b[0mself\u001b[0m\u001b[0;34m,\u001b[0m \u001b[0mamount\u001b[0m\u001b[0;34m)\u001b[0m\u001b[0;34m:\u001b[0m\u001b[0;34m\u001b[0m\u001b[0m\n\u001b[1;32m     19\u001b[0m         \u001b[0;32mif\u001b[0m \u001b[0mself\u001b[0m\u001b[0;34m.\u001b[0m\u001b[0m_balance\u001b[0m \u001b[0;34m<\u001b[0m \u001b[0;36m0\u001b[0m\u001b[0;34m:\u001b[0m\u001b[0;34m\u001b[0m\u001b[0m\n\u001b[0;32m---> 20\u001b[0;31m             \u001b[0;32mraise\u001b[0m \u001b[0mInsufficientFunds\u001b[0m\u001b[0;34m\u001b[0m\u001b[0m\n\u001b[0m\u001b[1;32m     21\u001b[0m         \u001b[0mself\u001b[0m\u001b[0;34m.\u001b[0m\u001b[0m_balance\u001b[0m \u001b[0;34m-=\u001b[0m \u001b[0mamount\u001b[0m\u001b[0;34m\u001b[0m\u001b[0m\n",
      "\u001b[0;31mInsufficientFunds\u001b[0m: "
     ]
    }
   ],
   "source": [
    "account.withdraw(1000)"
   ]
  },
  {
   "cell_type": "markdown",
   "metadata": {},
   "source": [
    "### Dobra implementacja (z użyciem wzorca stanu)"
   ]
  },
  {
   "cell_type": "code",
   "execution_count": 19,
   "metadata": {
    "collapsed": true
   },
   "outputs": [],
   "source": []
  },
  {
   "cell_type": "markdown",
   "metadata": {},
   "source": [
    "### Oczekiwane zachowanie"
   ]
  },
  {
   "cell_type": "code",
   "execution_count": 20,
   "metadata": {},
   "outputs": [
    {
     "data": {
      "text/plain": [
       "500.0"
      ]
     },
     "execution_count": 20,
     "metadata": {},
     "output_type": "execute_result"
    }
   ],
   "source": [
    "account = BankAccount()\n",
    "account.deposit(500)\n",
    "account.balance"
   ]
  },
  {
   "cell_type": "code",
   "execution_count": 21,
   "metadata": {},
   "outputs": [
    {
     "data": {
      "text/plain": [
       "'Normal'"
      ]
     },
     "execution_count": 21,
     "metadata": {},
     "output_type": "execute_result"
    }
   ],
   "source": [
    "account.get_state()"
   ]
  },
  {
   "cell_type": "code",
   "execution_count": 22,
   "metadata": {
    "collapsed": true
   },
   "outputs": [],
   "source": [
    "account.withdraw(1000)"
   ]
  },
  {
   "cell_type": "code",
   "execution_count": 23,
   "metadata": {},
   "outputs": [
    {
     "data": {
      "text/plain": [
       "-500.0"
      ]
     },
     "execution_count": 23,
     "metadata": {},
     "output_type": "execute_result"
    }
   ],
   "source": [
    "account.balance"
   ]
  },
  {
   "cell_type": "code",
   "execution_count": 24,
   "metadata": {},
   "outputs": [
    {
     "data": {
      "text/plain": [
       "'Overdraft'"
      ]
     },
     "execution_count": 24,
     "metadata": {},
     "output_type": "execute_result"
    }
   ],
   "source": [
    "account.get_state()"
   ]
  },
  {
   "cell_type": "code",
   "execution_count": 25,
   "metadata": {
    "scrolled": true
   },
   "outputs": [
    {
     "ename": "InsufficientFunds",
     "evalue": "",
     "output_type": "error",
     "traceback": [
      "Traceback \u001b[0;36m(most recent call last)\u001b[0m:\n",
      "  File \u001b[1;32m\"<ipython-input-25-42bed3e8cf8c>\"\u001b[0m, line \u001b[1;32m1\u001b[0m, in \u001b[1;35m<module>\u001b[0m\n    account.withdraw(1000)\n",
      "  File \u001b[1;32m\"<ipython-input-19-4c57dfef9430>\"\u001b[0m, line \u001b[1;32m34\u001b[0m, in \u001b[1;35mcall\u001b[0m\n    ret = method(self, *args, **kwargs)\n",
      "\u001b[0;36m  File \u001b[0;32m\"<ipython-input-19-4c57dfef9430>\"\u001b[0;36m, line \u001b[0;32m20\u001b[0;36m, in \u001b[0;35mwithdraw\u001b[0;36m\u001b[0m\n\u001b[0;31m    raise InsufficientFunds\u001b[0m\n",
      "\u001b[0;31mInsufficientFunds\u001b[0m\n"
     ]
    }
   ],
   "source": [
    "account.withdraw(1000)"
   ]
  }
 ],
 "metadata": {
  "kernelspec": {
   "display_name": "Python 3",
   "language": "python",
   "name": "python3"
  },
  "language_info": {
   "codemirror_mode": {
    "name": "ipython",
    "version": 3
   },
   "file_extension": ".py",
   "mimetype": "text/x-python",
   "name": "python",
   "nbconvert_exporter": "python",
   "pygments_lexer": "ipython3",
   "version": "3.5.3"
  },
  "toc": {
   "nav_menu": {},
   "number_sections": true,
   "sideBar": true,
   "skip_h1_title": false,
   "toc_cell": false,
   "toc_position": {},
   "toc_section_display": "block",
   "toc_window_display": false
  }
 },
 "nbformat": 4,
 "nbformat_minor": 2
}
